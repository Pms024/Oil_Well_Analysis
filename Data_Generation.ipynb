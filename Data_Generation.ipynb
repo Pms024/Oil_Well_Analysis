{
 "cells": [
  {
   "cell_type": "markdown",
   "id": "0de90ff0",
   "metadata": {},
   "source": [
    "# Generating Synthetic Oil Well Data\n",
    "This Jupyter Notebook generates synthetic oil well data and saves it to a CSV file. The data includes information about oil production, operating costs, well locations, API gravity, well depth, well type, and well pressure for a set of randomly generated oil wells.\n",
    "<div style=\"position:relative;\">\n",
    "  <img src=\"image.jpg\" style=\"width:400px; opacity:0.8;\">\n",
    "</div>\n",
    "\n",
    "\n"
   ]
  },
  {
   "cell_type": "markdown",
   "id": "c756d785",
   "metadata": {},
   "source": [
    "## Import necessary libraries\n",
    "We begin by importing the required Python libraries."
   ]
  },
  {
   "cell_type": "code",
   "execution_count": 6,
   "id": "c17c3380",
   "metadata": {},
   "outputs": [],
   "source": [
    "import pandas as pd\n",
    "import numpy as np\n",
    "import random\n",
    "from datetime import timedelta, datetime"
   ]
  },
  {
   "cell_type": "markdown",
   "id": "036e2d48",
   "metadata": {},
   "source": [
    "## Set the seed for reproducibility\n",
    "We set a random seed to ensure reproducibility of the generated data."
   ]
  },
  {
   "cell_type": "code",
   "execution_count": 7,
   "id": "bcf2858f",
   "metadata": {},
   "outputs": [],
   "source": [
    "random.seed(42)"
   ]
  },
  {
   "cell_type": "markdown",
   "id": "cd705253",
   "metadata": {},
   "source": [
    "## Define the number of oil wells and line items per well\n",
    "Here, we specify the number of oil wells to generate and the number of line items (data points) per well."
   ]
  },
  {
   "cell_type": "code",
   "execution_count": 8,
   "id": "9122d6b3",
   "metadata": {},
   "outputs": [],
   "source": [
    "num_wells = 1000\n",
    "num_line_items_per_well = 20"
   ]
  },
  {
   "cell_type": "markdown",
   "id": "c1f551a0",
   "metadata": {},
   "source": [
    "## Generate dates within a specific range\n",
    "We define a start date and an end date to generate random dates for each line item."
   ]
  },
  {
   "cell_type": "code",
   "execution_count": 9,
   "id": "e8200108",
   "metadata": {},
   "outputs": [],
   "source": [
    "start_date = datetime(2015, 1, 1)\n",
    "end_date = datetime(2022, 12, 31)"
   ]
  },
  {
   "cell_type": "markdown",
   "id": "b30e8d13",
   "metadata": {},
   "source": [
    "## Create lists to store data\n",
    "We create lists to store the data we will generate for each well."
   ]
  },
  {
   "cell_type": "code",
   "execution_count": 10,
   "id": "e5c243f7",
   "metadata": {},
   "outputs": [],
   "source": [
    "well_ids = []\n",
    "dates = []\n",
    "production_volumes = []\n",
    "operating_costs = []\n",
    "well_locations = []\n",
    "api_gravity = []\n",
    "well_depths = []\n",
    "well_types = []\n",
    "well_pressures = []"
   ]
  },
  {
   "cell_type": "markdown",
   "id": "703f3795",
   "metadata": {},
   "source": [
    "## Generate random data for each well\n",
    "Next, we generate random data for each oil well based on the defined parameters."
   ]
  },
  {
   "cell_type": "code",
   "execution_count": 11,
   "id": "46296eed",
   "metadata": {},
   "outputs": [],
   "source": [
    "for well_id in range(1, num_wells + 1):\n",
    "    for _ in range(num_line_items_per_well):\n",
    "        well_ids.append(f'Well_{well_id}')\n",
    "        dates.append(random.choice(pd.date_range(start_date, end_date)))\n",
    "        \n",
    "        # Generate random production volume between 50 and 1000 BBL per day\n",
    "        production_volumes.append(random.uniform(50, 1000))\n",
    "        \n",
    "        # Generate random operating cost based on production volume, well type, and well pressure\n",
    "        # For simplicity, assume onshore wells have lower operating costs than offshore wells\n",
    "        # Higher well pressure leads to higher operating costs\n",
    "        well_type = random.choice(['Onshore', 'Offshore'])\n",
    "        well_pressure = random.uniform(2000, 5000)  # PSI\n",
    "        if well_type == 'Onshore':\n",
    "            operating_costs.append(production_volumes[-1] * 10 - (well_pressure / 1000))\n",
    "        else:\n",
    "            operating_costs.append(production_volumes[-1] * 15 + (well_pressure / 1000))\n",
    "        \n",
    "        # Generate random well locations based on well_id\n",
    "        if well_id <= 150:\n",
    "            well_locations.append('Abqaiq')\n",
    "        elif well_id <= 470:\n",
    "            well_locations.append('Ghawar')\n",
    "        elif well_id <= 560:\n",
    "            well_locations.append('Haradh')\n",
    "        elif well_id <= 680:\n",
    "            well_locations.append('Khurais')\n",
    "        elif well_id <= 790:\n",
    "            well_locations.append('Khursaniyah')\n",
    "        elif well_id <= 870:\n",
    "            well_locations.append('Manifa')\n",
    "        elif well_id <= 930:\n",
    "            well_locations.append('Nuayyim')\n",
    "        else:\n",
    "            well_locations.append('Qatif')\n",
    "        \n",
    "        # Generate random oil composition based on API gravity and sulfur content\n",
    "        api_gravity.append(random.choice([random.uniform(36, 45), random.uniform(23, 30), random.uniform(10, 18)]))\n",
    "        \n",
    "        # Generate random well depth between 500 and 5000 feet\n",
    "        well_depths.append(random.uniform(500, 5000))\n",
    "        \n",
    "        well_types.append(well_type)\n",
    "        well_pressures.append(well_pressure)"
   ]
  },
  {
   "cell_type": "markdown",
   "id": "b0cbfd9d",
   "metadata": {},
   "source": [
    "## Create a list to store the Weight_of_crude_oil based on API gravity\n",
    "Based on the API gravity values, we determine the weight of the crude oil."
   ]
  },
  {
   "cell_type": "code",
   "execution_count": 12,
   "id": "376595da",
   "metadata": {},
   "outputs": [],
   "source": [
    "weight_of_crude_oil = []\n",
    "\n",
    "for gravity in api_gravity:\n",
    "    if gravity > 31:\n",
    "        weight_of_crude_oil.append('Light')\n",
    "    elif 31 >= gravity > 22:\n",
    "        weight_of_crude_oil.append('Medium')\n",
    "    else:\n",
    "        weight_of_crude_oil.append('Heavy')"
   ]
  },
  {
   "cell_type": "markdown",
   "id": "8458ed59",
   "metadata": {},
   "source": [
    "## Create the DataFrame\n",
    "We create a DataFrame to organize all the generated data."
   ]
  },
  {
   "cell_type": "code",
   "execution_count": 13,
   "id": "ae95e666",
   "metadata": {},
   "outputs": [],
   "source": [
    "data = {\n",
    "    'Well ID': well_ids,\n",
    "    'Production Date': dates,\n",
    "    'Production Volume (BBL/day)': production_volumes,\n",
    "    'Operating Costs (USD/day)': operating_costs,\n",
    "    'Well Location': well_locations,\n",
    "    'Weight of Crude Oil': weight_of_crude_oil,\n",
    "    'API Gravity': api_gravity,\n",
    "    'Well Depth (Feet)': well_depths,\n",
    "    'Well Type': well_types,\n",
    "    'Well Pressure (PSI)': well_pressures\n",
    "}\n",
    "df = pd.DataFrame(data)"
   ]
  },
  {
   "cell_type": "markdown",
   "id": "fd44dd20",
   "metadata": {},
   "source": [
    "## Display the DataFrame"
   ]
  },
  {
   "cell_type": "code",
   "execution_count": 14,
   "id": "00ac1794",
   "metadata": {},
   "outputs": [
    {
     "name": "stdout",
     "output_type": "stream",
     "text": [
      "         Well ID Production Date  Production Volume (BBL/day)  \\\n",
      "0         Well_1      2022-03-04                   155.764515   \n",
      "1         Well_1      2019-09-25                    80.193546   \n",
      "2         Well_1      2019-09-15                   259.418591   \n",
      "3         Well_1      2017-05-31                   959.352419   \n",
      "4         Well_1      2020-02-25                   559.416687   \n",
      "...          ...             ...                          ...   \n",
      "19995  Well_1000      2015-07-05                   690.178355   \n",
      "19996  Well_1000      2021-10-07                   810.107971   \n",
      "19997  Well_1000      2020-03-30                   199.334314   \n",
      "19998  Well_1000      2017-02-18                   947.876963   \n",
      "19999  Well_1000      2017-08-26                   836.579350   \n",
      "\n",
      "       Operating Costs (USD/day) Well Location Weight of Crude Oil  \\\n",
      "0                    2339.202397        Abqaiq               Heavy   \n",
      "1                     799.279541        Abqaiq               Heavy   \n",
      "2                    3895.707155        Abqaiq              Medium   \n",
      "3                   14392.592910        Abqaiq              Medium   \n",
      "4                    8393.486704        Abqaiq              Medium   \n",
      "...                          ...           ...                 ...   \n",
      "19995                6897.883957         Qatif               Light   \n",
      "19996                8096.700950         Qatif              Medium   \n",
      "19997                2993.348606         Qatif               Heavy   \n",
      "19998                9475.563819         Qatif              Medium   \n",
      "19999               12552.335792         Qatif              Medium   \n",
      "\n",
      "       API Gravity  Well Depth (Feet) Well Type  Well Pressure (PSI)  \n",
      "0        15.925342         891.224747  Offshore          2734.675561  \n",
      "1        11.590701        3655.962381   Onshore          2655.913924  \n",
      "2        28.640735        1750.421038  Offshore          4428.291370  \n",
      "3        25.512856        4132.077230  Offshore          2306.630830  \n",
      "4        27.400479        3098.084654  Offshore          2236.400594  \n",
      "...            ...                ...       ...                  ...  \n",
      "19995    44.851676        4171.146470   Onshore          3899.594851  \n",
      "19996    29.892735        1227.506310   Onshore          4378.756667  \n",
      "19997    12.036767        2868.128323  Offshore          3333.896202  \n",
      "19998    28.937132        2308.707825   Onshore          3205.813789  \n",
      "19999    28.548033        4887.697930  Offshore          3645.539884  \n",
      "\n",
      "[20000 rows x 10 columns]\n"
     ]
    }
   ],
   "source": [
    "print(df)"
   ]
  },
  {
   "cell_type": "markdown",
   "id": "e071a49b",
   "metadata": {},
   "source": [
    "## Save the DataFrame to a CSV file\n",
    "Finally, we save the DataFrame to a CSV file for further analysis."
   ]
  },
  {
   "cell_type": "code",
   "execution_count": 11,
   "id": "b654eb0a",
   "metadata": {},
   "outputs": [
    {
     "name": "stdout",
     "output_type": "stream",
     "text": [
      "Data saved to 'oil_well_data.csv'\n"
     ]
    }
   ],
   "source": [
    "df.to_csv('oil_well_data.csv', index=False)\n",
    "print(\"Data saved to 'oil_well_data.csv'\")"
   ]
  },
  {
   "cell_type": "code",
   "execution_count": null,
   "id": "5e1952c6",
   "metadata": {},
   "outputs": [],
   "source": []
  }
 ],
 "metadata": {
  "kernelspec": {
   "display_name": "Python 3 (ipykernel)",
   "language": "python",
   "name": "python3"
  },
  "language_info": {
   "codemirror_mode": {
    "name": "ipython",
    "version": 3
   },
   "file_extension": ".py",
   "mimetype": "text/x-python",
   "name": "python",
   "nbconvert_exporter": "python",
   "pygments_lexer": "ipython3",
   "version": "3.9.13"
  }
 },
 "nbformat": 4,
 "nbformat_minor": 5
}
